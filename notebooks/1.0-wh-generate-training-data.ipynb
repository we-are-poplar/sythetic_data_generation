{
 "cells": [
  {
   "cell_type": "markdown",
   "id": "4fd9ecbe-df64-4e90-92f8-ee005cbccb8c",
   "metadata": {},
   "source": [
    "## Imports"
   ]
  },
  {
   "cell_type": "code",
   "execution_count": 54,
   "id": "9be18c58-b337-45c8-b473-0eb7d1b12d62",
   "metadata": {},
   "outputs": [
    {
     "name": "stdout",
     "output_type": "stream",
     "text": [
      "The autoreload extension is already loaded. To reload it, use:\n",
      "  %reload_ext autoreload\n"
     ]
    },
    {
     "data": {
      "application/javascript": [
       "\n",
       "            setTimeout(function() {\n",
       "                var nbb_cell_id = 54;\n",
       "                var nbb_unformatted_code = \"%load_ext autoreload\\n%autoreload 2\\n%load_ext nb_black\";\n",
       "                var nbb_formatted_code = \"%load_ext autoreload\\n%autoreload 2\\n%load_ext nb_black\";\n",
       "                var nbb_cells = Jupyter.notebook.get_cells();\n",
       "                for (var i = 0; i < nbb_cells.length; ++i) {\n",
       "                    if (nbb_cells[i].input_prompt_number == nbb_cell_id) {\n",
       "                        if (nbb_cells[i].get_text() == nbb_unformatted_code) {\n",
       "                             nbb_cells[i].set_text(nbb_formatted_code);\n",
       "                        }\n",
       "                        break;\n",
       "                    }\n",
       "                }\n",
       "            }, 500);\n",
       "            "
      ],
      "text/plain": [
       "<IPython.core.display.Javascript object>"
      ]
     },
     "metadata": {},
     "output_type": "display_data"
    }
   ],
   "source": [
    "%load_ext autoreload\n",
    "%autoreload 2\n",
    "%load_ext nb_black"
   ]
  },
  {
   "cell_type": "code",
   "execution_count": 55,
   "id": "17a92952-4c63-450f-94f3-6f1c44396a8a",
   "metadata": {},
   "outputs": [
    {
     "data": {
      "application/javascript": [
       "\n",
       "            setTimeout(function() {\n",
       "                var nbb_cell_id = 55;\n",
       "                var nbb_unformatted_code = \"from pathlib import Path\\nfrom random import choice\\nfrom PIL import Image, ImageDraw, ImageEnhance\\nfrom random import random\\nimport numpy as np\\nimport sys\\nsys.path.append(\\\"..\\\")\\nfrom src.preprocessing import crop_transparent, paste_img_on_bg, init_coco_data\\nimport json\\nfrom datetime import datetime\";\n",
       "                var nbb_formatted_code = \"from pathlib import Path\\nfrom random import choice\\nfrom PIL import Image, ImageDraw, ImageEnhance\\nfrom random import random\\nimport numpy as np\\nimport sys\\n\\nsys.path.append(\\\"..\\\")\\nfrom src.preprocessing import crop_transparent, paste_img_on_bg, init_coco_data\\nimport json\\nfrom datetime import datetime\";\n",
       "                var nbb_cells = Jupyter.notebook.get_cells();\n",
       "                for (var i = 0; i < nbb_cells.length; ++i) {\n",
       "                    if (nbb_cells[i].input_prompt_number == nbb_cell_id) {\n",
       "                        if (nbb_cells[i].get_text() == nbb_unformatted_code) {\n",
       "                             nbb_cells[i].set_text(nbb_formatted_code);\n",
       "                        }\n",
       "                        break;\n",
       "                    }\n",
       "                }\n",
       "            }, 500);\n",
       "            "
      ],
      "text/plain": [
       "<IPython.core.display.Javascript object>"
      ]
     },
     "metadata": {},
     "output_type": "display_data"
    }
   ],
   "source": [
    "from pathlib import Path\n",
    "from random import choice\n",
    "from PIL import Image, ImageDraw, ImageEnhance\n",
    "from random import random\n",
    "import numpy as np\n",
    "import sys\n",
    "sys.path.append(\"..\")\n",
    "from src.preprocessing import crop_transparent, paste_img_on_bg, init_coco_data\n",
    "import json\n",
    "from datetime import datetime"
   ]
  },
  {
   "cell_type": "markdown",
   "id": "43a33827-b06f-4c2f-a223-ae9a414b378b",
   "metadata": {},
   "source": [
    "## Prepare rendered images\n",
    "\n",
    "* Crop to non-transparent area"
   ]
  },
  {
   "cell_type": "code",
   "execution_count": 56,
   "id": "1d6a92f6-56e9-4ec3-91cc-4aa49394ae47",
   "metadata": {},
   "outputs": [
    {
     "data": {
      "application/javascript": [
       "\n",
       "            setTimeout(function() {\n",
       "                var nbb_cell_id = 56;\n",
       "                var nbb_unformatted_code = \"object_paths = Path(\\\"../data/rendered/mbp\\\")\\nobject_paths = [x for x in object_paths.iterdir()]\";\n",
       "                var nbb_formatted_code = \"object_paths = Path(\\\"../data/rendered/mbp\\\")\\nobject_paths = [x for x in object_paths.iterdir()]\";\n",
       "                var nbb_cells = Jupyter.notebook.get_cells();\n",
       "                for (var i = 0; i < nbb_cells.length; ++i) {\n",
       "                    if (nbb_cells[i].input_prompt_number == nbb_cell_id) {\n",
       "                        if (nbb_cells[i].get_text() == nbb_unformatted_code) {\n",
       "                             nbb_cells[i].set_text(nbb_formatted_code);\n",
       "                        }\n",
       "                        break;\n",
       "                    }\n",
       "                }\n",
       "            }, 500);\n",
       "            "
      ],
      "text/plain": [
       "<IPython.core.display.Javascript object>"
      ]
     },
     "metadata": {},
     "output_type": "display_data"
    }
   ],
   "source": [
    "object_paths = Path(\"../data/rendered/mbp\")\n",
    "object_paths = [x for x in object_paths.iterdir()]"
   ]
  },
  {
   "cell_type": "code",
   "execution_count": 57,
   "id": "f7e7a666-1cb8-43d3-a919-7f1e89c1ef8e",
   "metadata": {},
   "outputs": [
    {
     "data": {
      "application/javascript": [
       "\n",
       "            setTimeout(function() {\n",
       "                var nbb_cell_id = 57;\n",
       "                var nbb_unformatted_code = \"for object_path in object_paths:\\n    img = Image.open(object_path)\\n    img = crop_transparent(img)\\n    filename = object_path.parts[-1]\\n    img.save(f\\\"../data/processed/cropped_render/mbp/{filename}.png\\\")\";\n",
       "                var nbb_formatted_code = \"for object_path in object_paths:\\n    img = Image.open(object_path)\\n    img = crop_transparent(img)\\n    filename = object_path.parts[-1]\\n    img.save(f\\\"../data/processed/cropped_render/mbp/{filename}.png\\\")\";\n",
       "                var nbb_cells = Jupyter.notebook.get_cells();\n",
       "                for (var i = 0; i < nbb_cells.length; ++i) {\n",
       "                    if (nbb_cells[i].input_prompt_number == nbb_cell_id) {\n",
       "                        if (nbb_cells[i].get_text() == nbb_unformatted_code) {\n",
       "                             nbb_cells[i].set_text(nbb_formatted_code);\n",
       "                        }\n",
       "                        break;\n",
       "                    }\n",
       "                }\n",
       "            }, 500);\n",
       "            "
      ],
      "text/plain": [
       "<IPython.core.display.Javascript object>"
      ]
     },
     "metadata": {},
     "output_type": "display_data"
    }
   ],
   "source": [
    "for object_path in object_paths:\n",
    "    img = Image.open(object_path)\n",
    "    img = crop_transparent(img)\n",
    "    filename = object_path.parts[-1]\n",
    "    img.save(f\"../data/processed/cropped_render/mbp/{filename}.png\")"
   ]
  },
  {
   "cell_type": "code",
   "execution_count": 58,
   "id": "8362d318-5e44-415c-8173-32bea267aebc",
   "metadata": {},
   "outputs": [
    {
     "data": {
      "application/javascript": [
       "\n",
       "            setTimeout(function() {\n",
       "                var nbb_cell_id = 58;\n",
       "                var nbb_unformatted_code = \"bgs = Path(\\\"../data/raw/flat_bg/\\\")\\nbgs = [x for x in bgs.iterdir()]\";\n",
       "                var nbb_formatted_code = \"bgs = Path(\\\"../data/raw/flat_bg/\\\")\\nbgs = [x for x in bgs.iterdir()]\";\n",
       "                var nbb_cells = Jupyter.notebook.get_cells();\n",
       "                for (var i = 0; i < nbb_cells.length; ++i) {\n",
       "                    if (nbb_cells[i].input_prompt_number == nbb_cell_id) {\n",
       "                        if (nbb_cells[i].get_text() == nbb_unformatted_code) {\n",
       "                             nbb_cells[i].set_text(nbb_formatted_code);\n",
       "                        }\n",
       "                        break;\n",
       "                    }\n",
       "                }\n",
       "            }, 500);\n",
       "            "
      ],
      "text/plain": [
       "<IPython.core.display.Javascript object>"
      ]
     },
     "metadata": {},
     "output_type": "display_data"
    }
   ],
   "source": [
    "bgs = Path(\"../data/raw/flat_bg/\")\n",
    "bgs = [x for x in bgs.iterdir()]"
   ]
  },
  {
   "cell_type": "code",
   "execution_count": 59,
   "id": "86c3674f-f3c0-44c2-8a56-ef5b1e7821d3",
   "metadata": {},
   "outputs": [
    {
     "data": {
      "application/javascript": [
       "\n",
       "            setTimeout(function() {\n",
       "                var nbb_cell_id = 59;\n",
       "                var nbb_unformatted_code = \"cropped_object_paths = Path(\\\"../data/processed/cropped_render/mbp\\\")\\ncropped_object_paths = [x for x in cropped_object_paths.iterdir()]\";\n",
       "                var nbb_formatted_code = \"cropped_object_paths = Path(\\\"../data/processed/cropped_render/mbp\\\")\\ncropped_object_paths = [x for x in cropped_object_paths.iterdir()]\";\n",
       "                var nbb_cells = Jupyter.notebook.get_cells();\n",
       "                for (var i = 0; i < nbb_cells.length; ++i) {\n",
       "                    if (nbb_cells[i].input_prompt_number == nbb_cell_id) {\n",
       "                        if (nbb_cells[i].get_text() == nbb_unformatted_code) {\n",
       "                             nbb_cells[i].set_text(nbb_formatted_code);\n",
       "                        }\n",
       "                        break;\n",
       "                    }\n",
       "                }\n",
       "            }, 500);\n",
       "            "
      ],
      "text/plain": [
       "<IPython.core.display.Javascript object>"
      ]
     },
     "metadata": {},
     "output_type": "display_data"
    }
   ],
   "source": [
    "cropped_object_paths = Path(\"../data/processed/cropped_render/mbp\")\n",
    "cropped_object_paths = [x for x in cropped_object_paths.iterdir()]"
   ]
  },
  {
   "cell_type": "code",
   "execution_count": 60,
   "id": "9871ebb4-7fc4-473d-8114-4763cd74ea6a",
   "metadata": {},
   "outputs": [
    {
     "data": {
      "application/javascript": [
       "\n",
       "            setTimeout(function() {\n",
       "                var nbb_cell_id = 60;\n",
       "                var nbb_unformatted_code = \"data = init_coco_data()\\ndata[\\\"info\\\"] = {\\n    \\\"description\\\": \\\"Synthetic test dataset\\\",\\n    \\\"version\\\": \\\"1.0\\\",\\n    \\\"year\\\": 2021,\\n    \\\"contributor\\\": \\\"Poplar Studio\\\",\\n    \\\"date_created\\\": datetime.now().strftime(\\\"%Y-%m-%d\\\")\\n}\\nmbp_category = {\\n    \\\"id\\\": 1,\\n    \\\"name\\\": \\\"mbp\\\"\\n}\\ndata[\\\"categories\\\"].append(mbp_category)\\n\\nfor i, object_path in enumerate(cropped_object_paths):\\n    background = Image.open(choice(bgs))\\n    object_img = Image.open(object_path)\\n    result, bbox = paste_img_on_bg(object_img, background)\\n    file_name = f\\\"mbp_{i}.png\\\"\\n    result.save(f\\\"../data/processed/training/mbp/{file_name}\\\")\\n    \\n    image_data = {\\n        \\\"license\\\": 1,\\n        \\\"file_name\\\": file_name,\\n        \\\"height\\\": result.size[1],\\n        \\\"width\\\": result.size[0],\\n        \\\"id\\\": i\\n    }\\n    \\n    category_id = 0\\n    annotation_data = {\\n        \\\"image_id\\\": i,\\n        \\\"bbox\\\": bbox,\\n        \\\"category_id\\\": 1,\\n        \\\"id\\\": i,\\n    }\\n    \\n    data[\\\"images\\\"].append(image_data)\\n    data[\\\"annotations\\\"].append(annotation_data)\";\n",
       "                var nbb_formatted_code = \"data = init_coco_data()\\ndata[\\\"info\\\"] = {\\n    \\\"description\\\": \\\"Synthetic test dataset\\\",\\n    \\\"version\\\": \\\"1.0\\\",\\n    \\\"year\\\": 2021,\\n    \\\"contributor\\\": \\\"Poplar Studio\\\",\\n    \\\"date_created\\\": datetime.now().strftime(\\\"%Y-%m-%d\\\"),\\n}\\nmbp_category = {\\\"id\\\": 1, \\\"name\\\": \\\"mbp\\\"}\\ndata[\\\"categories\\\"].append(mbp_category)\\n\\nfor i, object_path in enumerate(cropped_object_paths):\\n    background = Image.open(choice(bgs))\\n    object_img = Image.open(object_path)\\n    result, bbox = paste_img_on_bg(object_img, background)\\n    file_name = f\\\"mbp_{i}.png\\\"\\n    result.save(f\\\"../data/processed/training/mbp/{file_name}\\\")\\n\\n    image_data = {\\n        \\\"license\\\": 1,\\n        \\\"file_name\\\": file_name,\\n        \\\"height\\\": result.size[1],\\n        \\\"width\\\": result.size[0],\\n        \\\"id\\\": i,\\n    }\\n\\n    category_id = 0\\n    annotation_data = {\\n        \\\"image_id\\\": i,\\n        \\\"bbox\\\": bbox,\\n        \\\"category_id\\\": 1,\\n        \\\"id\\\": i,\\n    }\\n\\n    data[\\\"images\\\"].append(image_data)\\n    data[\\\"annotations\\\"].append(annotation_data)\";\n",
       "                var nbb_cells = Jupyter.notebook.get_cells();\n",
       "                for (var i = 0; i < nbb_cells.length; ++i) {\n",
       "                    if (nbb_cells[i].input_prompt_number == nbb_cell_id) {\n",
       "                        if (nbb_cells[i].get_text() == nbb_unformatted_code) {\n",
       "                             nbb_cells[i].set_text(nbb_formatted_code);\n",
       "                        }\n",
       "                        break;\n",
       "                    }\n",
       "                }\n",
       "            }, 500);\n",
       "            "
      ],
      "text/plain": [
       "<IPython.core.display.Javascript object>"
      ]
     },
     "metadata": {},
     "output_type": "display_data"
    }
   ],
   "source": [
    "data = init_coco_data()\n",
    "data[\"info\"] = {\n",
    "    \"description\": \"Synthetic test dataset\",\n",
    "    \"version\": \"1.0\",\n",
    "    \"year\": 2021,\n",
    "    \"contributor\": \"Poplar Studio\",\n",
    "    \"date_created\": datetime.now().strftime(\"%Y-%m-%d\")\n",
    "}\n",
    "mbp_category = {\n",
    "    \"id\": 1,\n",
    "    \"name\": \"mbp\"\n",
    "}\n",
    "data[\"categories\"].append(mbp_category)\n",
    "\n",
    "for i, object_path in enumerate(cropped_object_paths):\n",
    "    background = Image.open(choice(bgs))\n",
    "    object_img = Image.open(object_path)\n",
    "    result, bbox = paste_img_on_bg(object_img, background)\n",
    "    file_name = f\"mbp_{i}.png\"\n",
    "    result.save(f\"../data/processed/training/mbp/{file_name}\")\n",
    "    \n",
    "    image_data = {\n",
    "        \"license\": 1,\n",
    "        \"file_name\": file_name,\n",
    "        \"height\": result.size[1],\n",
    "        \"width\": result.size[0],\n",
    "        \"id\": i\n",
    "    }\n",
    "    \n",
    "    category_id = 0\n",
    "    annotation_data = {\n",
    "        \"image_id\": i,\n",
    "        \"bbox\": bbox,\n",
    "        \"category_id\": 1,\n",
    "        \"id\": i,\n",
    "    }\n",
    "    \n",
    "    data[\"images\"].append(image_data)\n",
    "    data[\"annotations\"].append(annotation_data)"
   ]
  },
  {
   "cell_type": "code",
   "execution_count": 61,
   "id": "1f50f6ec-0150-4d45-b7d5-7db889144e58",
   "metadata": {},
   "outputs": [
    {
     "data": {
      "text/plain": [
       "{'info': {'description': 'Synthetic test dataset',\n",
       "  'version': '1.0',\n",
       "  'year': 2021,\n",
       "  'contributor': 'Poplar Studio',\n",
       "  'date_created': '2021-09-17'},\n",
       " 'licenses': [{'url': 'http://creativecommons.org/licenses/by-nc-sa/2.0/',\n",
       "   'id': 1,\n",
       "   'name': 'Attribution-NonCommercial-ShareAlike License'}],\n",
       " 'images': [{'license': 1,\n",
       "   'file_name': 'mbp_0.png',\n",
       "   'height': 1440,\n",
       "   'width': 1920,\n",
       "   'id': 0},\n",
       "  {'license': 1,\n",
       "   'file_name': 'mbp_1.png',\n",
       "   'height': 1440,\n",
       "   'width': 1920,\n",
       "   'id': 1},\n",
       "  {'license': 1,\n",
       "   'file_name': 'mbp_2.png',\n",
       "   'height': 1440,\n",
       "   'width': 1920,\n",
       "   'id': 2},\n",
       "  {'license': 1,\n",
       "   'file_name': 'mbp_3.png',\n",
       "   'height': 1440,\n",
       "   'width': 1920,\n",
       "   'id': 3},\n",
       "  {'license': 1,\n",
       "   'file_name': 'mbp_4.png',\n",
       "   'height': 1440,\n",
       "   'width': 1920,\n",
       "   'id': 4}],\n",
       " 'annotations': [{'image_id': 0,\n",
       "   'bbox': [458, 94, 994, 1101],\n",
       "   'category_id': 1,\n",
       "   'id': 0},\n",
       "  {'image_id': 1, 'bbox': [719, 711, 738, 423], 'category_id': 1, 'id': 1},\n",
       "  {'image_id': 2, 'bbox': [666, 884, 724, 533], 'category_id': 1, 'id': 2},\n",
       "  {'image_id': 3, 'bbox': [35, 559, 1420, 825], 'category_id': 1, 'id': 3},\n",
       "  {'image_id': 4, 'bbox': [33, 293, 1638, 844], 'category_id': 1, 'id': 4}],\n",
       " 'categories': [{'id': 1, 'name': 'mbp'}]}"
      ]
     },
     "execution_count": 61,
     "metadata": {},
     "output_type": "execute_result"
    },
    {
     "data": {
      "application/javascript": [
       "\n",
       "            setTimeout(function() {\n",
       "                var nbb_cell_id = 61;\n",
       "                var nbb_unformatted_code = \"data\";\n",
       "                var nbb_formatted_code = \"data\";\n",
       "                var nbb_cells = Jupyter.notebook.get_cells();\n",
       "                for (var i = 0; i < nbb_cells.length; ++i) {\n",
       "                    if (nbb_cells[i].input_prompt_number == nbb_cell_id) {\n",
       "                        if (nbb_cells[i].get_text() == nbb_unformatted_code) {\n",
       "                             nbb_cells[i].set_text(nbb_formatted_code);\n",
       "                        }\n",
       "                        break;\n",
       "                    }\n",
       "                }\n",
       "            }, 500);\n",
       "            "
      ],
      "text/plain": [
       "<IPython.core.display.Javascript object>"
      ]
     },
     "metadata": {},
     "output_type": "display_data"
    }
   ],
   "source": [
    "data"
   ]
  },
  {
   "cell_type": "code",
   "execution_count": 62,
   "id": "c7b545fc-4f89-4a18-9297-0d67cd585297",
   "metadata": {},
   "outputs": [
    {
     "data": {
      "application/javascript": [
       "\n",
       "            setTimeout(function() {\n",
       "                var nbb_cell_id = 62;\n",
       "                var nbb_unformatted_code = \"with open(\\\"../data/processed/training/mbp/data.json\\\", \\\"w\\\") as fp:\\n    json.dump(data, fp)\";\n",
       "                var nbb_formatted_code = \"with open(\\\"../data/processed/training/mbp/data.json\\\", \\\"w\\\") as fp:\\n    json.dump(data, fp)\";\n",
       "                var nbb_cells = Jupyter.notebook.get_cells();\n",
       "                for (var i = 0; i < nbb_cells.length; ++i) {\n",
       "                    if (nbb_cells[i].input_prompt_number == nbb_cell_id) {\n",
       "                        if (nbb_cells[i].get_text() == nbb_unformatted_code) {\n",
       "                             nbb_cells[i].set_text(nbb_formatted_code);\n",
       "                        }\n",
       "                        break;\n",
       "                    }\n",
       "                }\n",
       "            }, 500);\n",
       "            "
      ],
      "text/plain": [
       "<IPython.core.display.Javascript object>"
      ]
     },
     "metadata": {},
     "output_type": "display_data"
    }
   ],
   "source": [
    "with open(\"../data/processed/training/mbp/data.json\", \"w\") as fp:\n",
    "    json.dump(data, fp)\n"
   ]
  },
  {
   "cell_type": "code",
   "execution_count": null,
   "id": "4f3c9ae1-031f-44c9-955c-6a7089b6644f",
   "metadata": {},
   "outputs": [],
   "source": []
  }
 ],
 "metadata": {
  "kernelspec": {
   "display_name": "Python 3",
   "language": "python",
   "name": "python3"
  },
  "language_info": {
   "codemirror_mode": {
    "name": "ipython",
    "version": 3
   },
   "file_extension": ".py",
   "mimetype": "text/x-python",
   "name": "python",
   "nbconvert_exporter": "python",
   "pygments_lexer": "ipython3",
   "version": "3.9.6"
  }
 },
 "nbformat": 4,
 "nbformat_minor": 5
}
