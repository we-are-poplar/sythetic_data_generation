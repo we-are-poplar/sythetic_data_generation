{
 "cells": [
  {
   "cell_type": "code",
   "execution_count": 16,
   "id": "17a92952-4c63-450f-94f3-6f1c44396a8a",
   "metadata": {},
   "outputs": [],
   "source": [
    "from pathlib import Path\n",
    "from random import choice\n",
    "from PIL import Image"
   ]
  },
  {
   "cell_type": "code",
   "execution_count": 12,
   "id": "8362d318-5e44-415c-8173-32bea267aebc",
   "metadata": {},
   "outputs": [],
   "source": [
    "bgs = Path(\"bg\")\n",
    "bgs = [x for x in bgs.iterdir()]"
   ]
  },
  {
   "cell_type": "code",
   "execution_count": 13,
   "id": "1d6a92f6-56e9-4ec3-91cc-4aa49394ae47",
   "metadata": {},
   "outputs": [],
   "source": [
    "kettles = Path(\"kettle\")\n",
    "kettles = [x for x in kettles.iterdir()]"
   ]
  },
  {
   "cell_type": "code",
   "execution_count": 43,
   "id": "9871ebb4-7fc4-473d-8114-4763cd74ea6a",
   "metadata": {},
   "outputs": [],
   "source": [
    "for i, kettle_path in enumerate(kettles):\n",
    "    background = Image.open(choice(bgs))\n",
    "    scale_factor = 1920 / background.size[0]\n",
    "    w, h = background.size\n",
    "    background = background.resize((int(w * scale_factor), int(h * scale_factor)))\n",
    "    img = Image.open(kettle_path)\n",
    "    h_start = (h * scale_factor - 1080) / 2\n",
    "    background.paste(img, (0, int(h_start)), img)\n",
    "    background.save(f\"rendered/kettle_{i}.png\")"
   ]
  },
  {
   "cell_type": "code",
   "execution_count": null,
   "id": "0a046b1a-bb97-4dd3-ba0f-032a1077bbc0",
   "metadata": {},
   "outputs": [],
   "source": []
  }
 ],
 "metadata": {
  "kernelspec": {
   "display_name": "Python 3",
   "language": "python",
   "name": "python3"
  },
  "language_info": {
   "codemirror_mode": {
    "name": "ipython",
    "version": 3
   },
   "file_extension": ".py",
   "mimetype": "text/x-python",
   "name": "python",
   "nbconvert_exporter": "python",
   "pygments_lexer": "ipython3",
   "version": "3.9.6"
  }
 },
 "nbformat": 4,
 "nbformat_minor": 5
}
